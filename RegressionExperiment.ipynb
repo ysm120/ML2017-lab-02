{
 "cells": [
  {
   "cell_type": "markdown",
   "metadata": {},
   "source": [
    "#逻辑回归实现，验证集a9atest.txt只有122个特征，手动在第一行添加了123：0    代码运行速度比较慢"
   ]
  },
  {
   "cell_type": "code",
   "execution_count": 1,
   "metadata": {
    "collapsed": true
   },
   "outputs": [],
   "source": [
    "from sklearn.datasets import load_svmlight_file\n",
    "from numpy import *\n",
    "from sklearn.model_selection import train_test_split\n",
    "import math\n",
    "data=load_svmlight_file(r'D:\\a9a.txt')#读取训练集数据\n",
    "datat=load_svmlight_file(r'D:\\a9atest.txt')#读取验证集数据\n",
    "X=data[0]\n",
    "y=data[1]\n",
    "Xt=datat[0]\n",
    "yt=datat[1]\n",
    "for i in range(32561):#将训练集的预测值-1改为0\n",
    "    if y[i]==-1:\n",
    "        y[i]=0\n",
    "for i in range(16281):#将验证集的预测值-1改为0\n",
    "    if yt[i]==-1:\n",
    "        yt[i]=0\n",
    "S=zeros((32561,123))\n",
    "S=mat(S)\n",
    "X=X+S\n",
    "X=X.getA()\n",
    "c=ones(X.shape[0])\n",
    "X=insert(X, 0, values=c, axis=1)#向训练集插入一列1\n",
    "X=mat(X)\n",
    "\n",
    "St=zeros((16281,123))\n",
    "St=mat(St)\n",
    "Xt=Xt+St\n",
    "Xt=Xt.getA()\n",
    "ct=ones(Xt.shape[0])\n",
    "Xt=insert(Xt, 0, values=ct, axis=1)#向验证集插入一列1\n",
    "Xt=mat(Xt)\n",
    "\n",
    "y=y.reshape(32561,1)\n",
    "y=mat(y)\n",
    "yt=yt.reshape(16281,1)\n",
    "yt=mat(yt)"
   ]
  },
  {
   "cell_type": "code",
   "execution_count": 2,
   "metadata": {
    "collapsed": true
   },
   "outputs": [],
   "source": [
    "def sigmod(X):#定义sigmod函数\n",
    "    h=1.0/(1+exp(-X))\n",
    "    return h\n",
    "def gradientfunction(X,y,W):#计算梯度\n",
    "    h=sigmod(X*W)\n",
    "    gradient=X.transpose()*(h-y)\n",
    "    return gradient\n",
    "def lossfunction(X,y,W):#计算loss\n",
    "    n=X.shape[0]\n",
    "    J=0\n",
    "    for i in range(n):\n",
    "        J=J+y[i,0]*log(sigmod(X[i,:]*W))+(1-y[i,0])*log(1-sigmod(X[i,:]*W))\n",
    "    J=-J/n\n",
    "    return J\n",
    "def predictscore(X,y,W):\n",
    "    m=X.shape[0]\n",
    "    count=0\n",
    "    for i in range(m):\n",
    "        h=sigmod(X[i]*W)\n",
    "        if h>=0.5 and int(y[i,0])==1:\n",
    "            count=count+1\n",
    "        elif h<0.5 and y[i,0]==0:\n",
    "            count=count+1\n",
    "    return count/m"
   ]
  },
  {
   "cell_type": "code",
   "execution_count": 3,
   "metadata": {
    "collapsed": true
   },
   "outputs": [],
   "source": [
    "#普通的SGD\n",
    "W1=zeros((124,1))#将参数全部初始化为0\n",
    "W1=mat(W1)\n",
    "V1=zeros((124,1))#将参数全部初始化为0\n",
    "V1=mat(V1)\n",
    "num1=[]#存储迭代次数\n",
    "loss1=[]#存储loss值\n",
    "lamda1=0.1\n",
    "for k in range(200):\n",
    "    num1.append(k)\n",
    "    i=random.randint(0,32561)#随机选取i\n",
    "    G1=gradientfunction(X[i,:],y[i,0],W1)#计算梯度\n",
    "    W1=W1-lamda1*G1#更新W\n",
    "    loss=lossfunction(Xt,yt,W1)\n",
    "    loss=loss.getA()\n",
    "    loss1.append(loss[0][0])"
   ]
  },
  {
   "cell_type": "code",
   "execution_count": 6,
   "metadata": {},
   "outputs": [
    {
     "name": "stdout",
     "output_type": "stream",
     "text": [
      "0.8318285117621768\n"
     ]
    }
   ],
   "source": [
    "#SGD的准确率\n",
    "p1=predictscore(Xt,yt,W1)\n",
    "print(p1)"
   ]
  },
  {
   "cell_type": "code",
   "execution_count": 10,
   "metadata": {
    "collapsed": true
   },
   "outputs": [],
   "source": [
    "#NAG优化方法\n",
    "W2=zeros((124,1))#将参数全部初始化为0\n",
    "W2=mat(W2)\n",
    "V2=zeros((124,1))#将参数全部初始化为0\n",
    "V2=mat(V2)\n",
    "r2=0.9\n",
    "num2=[]#存储迭代次数\n",
    "loss2=[]#存储loss值\n",
    "lamda2=0.01\n",
    "for k in range(200):\n",
    "    num2.append(k)\n",
    "    i=random.randint(0,32561)\n",
    "    W12=W2-r2*V2\n",
    "    G2=gradientfunction(X[i,:],y[i,0],W12)\n",
    "    V2=r2*V2+lamda2*G2\n",
    "    W2=W2-V2\n",
    "    loss=lossfunction(Xt,yt,W2)\n",
    "    loss=loss.getA()\n",
    "    loss2.append(loss[0][0])"
   ]
  },
  {
   "cell_type": "code",
   "execution_count": 12,
   "metadata": {},
   "outputs": [
    {
     "name": "stdout",
     "output_type": "stream",
     "text": [
      "0.8121736994042135\n"
     ]
    }
   ],
   "source": [
    "#NAG的准确率\n",
    "p2=predictscore(Xt,yt,W2)\n",
    "print(p2)"
   ]
  },
  {
   "cell_type": "code",
   "execution_count": 15,
   "metadata": {
    "collapsed": true
   },
   "outputs": [],
   "source": [
    "#RMSProp优化方法\n",
    "W3=zeros((124,1))#将参数全部初始化为0\n",
    "W3=mat(W3)\n",
    "Gt3=zeros((124,1))\n",
    "Gt3=mat(Gt3)\n",
    "r3=0.9\n",
    "num3=[]#存储迭代次数\n",
    "loss3=[]#存储loss值\n",
    "lamda3=0.01\n",
    "e3=1e-8\n",
    "for k in range(200):\n",
    "    num3.append(k)\n",
    "    i=random.randint(0,32561)\n",
    "    G3=gradientfunction(X[i,:],y[i,0],W3)\n",
    "    Gt3=r3*Gt3+(1-r3)*multiply(G3,G3)\n",
    "    W3=W3-multiply((lamda3/sqrt(Gt3+e3)),G3)\n",
    "    loss=lossfunction(Xt,yt,W3)\n",
    "    loss=loss.getA()\n",
    "    loss3.append(loss[0][0])"
   ]
  },
  {
   "cell_type": "code",
   "execution_count": 16,
   "metadata": {},
   "outputs": [
    {
     "name": "stdout",
     "output_type": "stream",
     "text": [
      "0.8070757324488668\n"
     ]
    }
   ],
   "source": [
    "#RMSProp的准确率\n",
    "p3=predictscore(Xt,yt,W3)\n",
    "print(p3)"
   ]
  },
  {
   "cell_type": "code",
   "execution_count": 20,
   "metadata": {
    "collapsed": true
   },
   "outputs": [],
   "source": [
    "#AdaDelta优化方法\n",
    "W4=zeros((124,1))#将参数全部初始化为0\n",
    "W4=mat(W4)\n",
    "Gt4=zeros((124,1))\n",
    "Gt4=mat(Gt4)\n",
    "d4=zeros((124,1))\n",
    "d4=mat(d4)\n",
    "r4=0.9\n",
    "num4=[]#存储迭代次数\n",
    "loss4=[]#存储loss值\n",
    "lamda4=0.2\n",
    "e4=1e-8\n",
    "for k in range(200):\n",
    "    num4.append(k)\n",
    "    i=random.randint(0,32561)\n",
    "    G4=gradientfunction(X[i,:],y[i,0],W4)\n",
    "    Gt4=r4*Gt4+(1-r4)*multiply(G4,G4)\n",
    "    dw4=-multiply(sqrt(d4+e4)/sqrt(Gt4+e4),G4)\n",
    "    W4=W4+dw4\n",
    "    d4=r4*d4+(1-r4)*multiply(dw4,dw4)\n",
    "    loss=lossfunction(Xt,yt,W4)\n",
    "    loss=loss.getA()\n",
    "    loss4.append(loss[0][0])"
   ]
  },
  {
   "cell_type": "code",
   "execution_count": 21,
   "metadata": {},
   "outputs": [
    {
     "name": "stdout",
     "output_type": "stream",
     "text": [
      "0.7637737239727289\n"
     ]
    }
   ],
   "source": [
    "#AdaDelta的准确率\n",
    "p4=predictscore(Xt,yt,W4)\n",
    "print(p4)"
   ]
  },
  {
   "cell_type": "code",
   "execution_count": 25,
   "metadata": {
    "collapsed": true
   },
   "outputs": [],
   "source": [
    "#Adam优化方法\n",
    "W5=zeros((124,1))#将参数全部初始化为0\n",
    "W5=mat(W5)\n",
    "Gt5=zeros((124,1))\n",
    "Gt5=mat(Gt5)\n",
    "m5=zeros((124,1))\n",
    "m5=mat(m5)\n",
    "r5=0.999\n",
    "num5=[]#存储迭代次数\n",
    "loss5=[]#存储loss值\n",
    "lamda5=0.2\n",
    "e5=1e-8\n",
    "B5=0.9\n",
    "n5=0.001\n",
    "for k in range(200):\n",
    "    num5.append(k)\n",
    "    i=random.randint(0,32561)\n",
    "    G5=gradientfunction(X[i,:],y[i,0],W5)\n",
    "    m5=B5*m5+(1-B5)*G5\n",
    "    Gt5=r5*Gt5+(1-r5)*multiply(G5,G5)\n",
    "    lamda5=n5*sqrt(1-r5)/(1-B5)\n",
    "    W5=W5-lamda5*m5/sqrt(Gt5+e5)\n",
    "    loss=lossfunction(Xt,yt,W5)\n",
    "    loss=loss.getA()\n",
    "    loss5.append(loss[0][0])"
   ]
  },
  {
   "cell_type": "code",
   "execution_count": 28,
   "metadata": {},
   "outputs": [
    {
     "name": "stdout",
     "output_type": "stream",
     "text": [
      "0.7637737239727289\n"
     ]
    }
   ],
   "source": [
    "#Adam的准确率\n",
    "p5=predictscore(Xt,yt,W5)\n",
    "print(p5)"
   ]
  },
  {
   "cell_type": "code",
   "execution_count": 29,
   "metadata": {},
   "outputs": [
    {
     "data": {
      "text/plain": [
       "Text(0,0.5,'loss')"
      ]
     },
     "execution_count": 29,
     "metadata": {},
     "output_type": "execute_result"
    },
    {
     "data": {
      "image/png": "[encoded data removed]",
      "text/plain": [
       "<matplotlib.figure.Figure at 0x1aad340c8d0>"
      ]
     },
     "metadata": {},
     "output_type": "display_data"
    }
   ],
   "source": [
    "%matplotlib inline\n",
    "import matplotlib.pyplot as plt\n",
    "plt.plot(num1,loss1,label='SGD')\n",
    "plt.plot(num2,loss2,label='NAG')\n",
    "plt.plot(num3,loss3,label='RMSProp')\n",
    "plt.plot(num4,loss4,label='AdaDelta')\n",
    "plt.plot(num5,loss5,label='Adam')\n",
    "plt.legend(loc=1)\n",
    "plt.xlabel('iteration')\n",
    "plt.ylabel('loss')"
   ]
  }
 ],
 "metadata": {
  "kernelspec": {
   "display_name": "Python 3",
   "language": "python",
   "name": "python3"
  },
  "language_info": {
   "codemirror_mode": {
    "name": "ipython",
    "version": 3
   },
   "file_extension": ".py",
   "mimetype": "text/x-python",
   "name": "python",
   "nbconvert_exporter": "python",
   "pygments_lexer": "ipython3",
   "version": "3.6.3"
  }
 },
 "nbformat": 4,
 "nbformat_minor": 2
}
