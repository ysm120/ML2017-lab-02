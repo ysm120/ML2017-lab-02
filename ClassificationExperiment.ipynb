{
 "cells": [
  {
   "cell_type": "markdown",
   "metadata": {},
   "source": [
    "#SVM实现，验证集a9atest.txt只有122个特征，手动在第一行添加了123：0    代码运行速度比较慢"
   ]
  },
  {
   "cell_type": "code",
   "execution_count": 1,
   "metadata": {},
   "outputs": [
    {
     "name": "stdout",
     "output_type": "stream",
     "text": [
      "(16281, 123)\n",
      "(16281, 123)\n"
     ]
    }
   ],
   "source": [
    "from sklearn.datasets import load_svmlight_file\n",
    "from numpy import *\n",
    "from sklearn.model_selection import train_test_split\n",
    "data=load_svmlight_file(r'D:\\a9a.txt')#读取训练集数据\n",
    "datat=load_svmlight_file(r'D:\\a9atest.txt')#读取验证集数据\n",
    "X=data[0]\n",
    "y=data[1]\n",
    "Xt=datat[0]\n",
    "yt=datat[1]\n",
    "S=zeros((32561,123))\n",
    "S=mat(S)\n",
    "X=X+S\n",
    "X=X.getA()\n",
    "print(Xt.shape)\n",
    "c=ones(X.shape[0])\n",
    "X=insert(X, 0, values=c, axis=1)#向训练集插入一列1\n",
    "X=mat(X)\n",
    "\n",
    "St=zeros((16281,123))\n",
    "St=mat(St)\n",
    "Xt=Xt+St\n",
    "Xt=Xt.getA()\n",
    "print(Xt.shape)\n",
    "ct=ones(Xt.shape[0])\n",
    "Xt=insert(Xt, 0, values=ct, axis=1)#向验证集插入一列1\n",
    "Xt=mat(Xt)\n",
    "\n",
    "y=y.reshape(32561,1)\n",
    "y=mat(y)\n",
    "yt=yt.reshape(16281,1)\n",
    "yt=mat(yt)"
   ]
  },
  {
   "cell_type": "code",
   "execution_count": 3,
   "metadata": {
    "collapsed": true
   },
   "outputs": [],
   "source": [
    "def lossfunction(X,y,W,C):#计算loss\n",
    "    loss=0\n",
    "    m=X.shape[0]\n",
    "    for j in range(m):\n",
    "        if y[j]*(X[j]*W.transpose())<1:\n",
    "            loss=loss+1\n",
    "    cost=loss*C+1/2*W*W.transpose()\n",
    "    return cost/m\n",
    "def gradientfunction(X,y,W,C):#计算梯度\n",
    "    k=0\n",
    "    S=zeros((1,124))\n",
    "    S=mat(S)\n",
    "    while k<100:#以100为批量size\n",
    "        i=random.randint(0,X.shape[0])\n",
    "        fx=1-y[i]*(X[i]*W.transpose())\n",
    "        if fx>=0:\n",
    "            G=-y[i]*X[i]\n",
    "        else:\n",
    "            G=0\n",
    "        S=S+G\n",
    "        k=k+1\n",
    "    gradient=W+C*S\n",
    "    return gradient\n",
    "def preditscore(X,y,W):#计算准确率\n",
    "    m=X.shape[0]\n",
    "    number=0\n",
    "    for j in range(m):\n",
    "        if y[j]*(X[j]*W.transpose())>=1:\n",
    "            number=number+1\n",
    "    score=number/m\n",
    "    print(number)\n",
    "    return score"
   ]
  },
  {
   "cell_type": "code",
   "execution_count": 7,
   "metadata": {
    "collapsed": true
   },
   "outputs": [],
   "source": [
    "#SGD\n",
    "W1=zeros((1,124))#将参数全部初始化为0\n",
    "W1=mat(W1)\n",
    "lamda1=0.003#lamda为学习率\n",
    "loss_validation1=[]#存储验证集的loss\n",
    "ix1=[]#存储迭代次数\n",
    "k1=0\n",
    "C1=0.1\n",
    "while 1:\n",
    "    ix1.append(k1)\n",
    "    lossv=0\n",
    "    #计算验证集的loss值\n",
    "    lossv=lossfunction(Xt,yt,W1,C1)\n",
    "    lossv=lossv.getA()\n",
    "    loss_validation1.append(lossv[0][0])\n",
    "    G1=gradientfunction(X,y,W1,C1)\n",
    "    W1=W1-lamda1*G1#更新模型参数\n",
    "    if lossv<0.01 or k1>200:#若loss值小于0.01或者迭代次数大于100则停止\n",
    "        break\n",
    "    k1=k1+1"
   ]
  },
  {
   "cell_type": "code",
   "execution_count": 13,
   "metadata": {
    "collapsed": true
   },
   "outputs": [],
   "source": [
    "#NAG\n",
    "W2=zeros((1,124))#将参数全部初始化为0\n",
    "W2=mat(W2)\n",
    "V2=zeros((1,124))#将参数全部初始化为0\n",
    "V2=mat(V2)\n",
    "loss_validation2=[]#存储验证集的loss\n",
    "ix2=[]#存储迭代次数\n",
    "k2=0\n",
    "C2=0.1\n",
    "n2=0.01\n",
    "r2=0.9\n",
    "while 1:\n",
    "    ix2.append(k2)\n",
    "    lossv=0\n",
    "    #计算验证集的loss值\n",
    "    lossv=lossfunction(Xt,yt,W2,C2)\n",
    "    lossv=lossv.getA()\n",
    "    loss_validation2.append(lossv[0][0])\n",
    "    W12=W2-r2*V2\n",
    "    G2=gradientfunction(X,y,W12,C2)\n",
    "    V2=r2*V2+n2*G2\n",
    "    W2=W2-V2#更新模型参数\n",
    "    if lossv<0.01 or k2>200:#若loss值小于0.01或者迭代次数大于100则停止\n",
    "        break\n",
    "    k2=k2+1"
   ]
  },
  {
   "cell_type": "code",
   "execution_count": 20,
   "metadata": {
    "collapsed": true
   },
   "outputs": [],
   "source": [
    "#RMSProp\n",
    "W3=zeros((1,124))#将参数全部初始化为0\n",
    "W3=mat(W3)\n",
    "Gt3=zeros((1,124))#将参数全部初始化为0\n",
    "Gt3=mat(Gt3)\n",
    "n3=0.001#lamda为学习率\n",
    "loss_validation3=[]#存储验证集的loss\n",
    "ix3=[]#存储迭代次数\n",
    "k3=0\n",
    "C3=0.1\n",
    "r3=0.9\n",
    "e3=1e-8\n",
    "while 1:\n",
    "    ix3.append(k3)\n",
    "    lossv=0\n",
    "    #计算验证集的loss值\n",
    "    lossv=lossfunction(Xt,yt,W3,C3)\n",
    "    lossv=lossv.getA()\n",
    "    loss_validation3.append(lossv[0][0])\n",
    "    G3=gradientfunction(X,y,W3,C3)\n",
    "    Gt3=r3*Gt3+(1-r3)*multiply(G3,G3)\n",
    "    W3=W3-multiply(n3/sqrt(Gt3+e3),G3)#更新模型参数\n",
    "    if lossv<0.01 or k3>200:#若loss值小于0.01或者迭代次数大于100则停止\n",
    "        break\n",
    "    k3=k3+1"
   ]
  },
  {
   "cell_type": "code",
   "execution_count": 47,
   "metadata": {
    "collapsed": true
   },
   "outputs": [],
   "source": [
    "#AdaDelte\n",
    "W4=zeros((1,124))#将参数全部初始化为0\n",
    "W4=mat(W4)\n",
    "Gt4=zeros((1,124))#将参数全部初始化为0\n",
    "Gt4=mat(Gt4)\n",
    "d4=zeros((1,124))#将参数全部初始化为0\n",
    "d4=mat(d4)\n",
    "loss_validation4=[]#存储验证集的loss\n",
    "ix4=[]#存储迭代次数\n",
    "k4=0\n",
    "C4=0.1\n",
    "r4=0.95\n",
    "e4=1e-8\n",
    "while 1:\n",
    "    ix4.append(k4)\n",
    "    lossv=0\n",
    "    #计算验证集的loss值\n",
    "    lossv=lossfunction(Xt,yt,W4,C4)\n",
    "    lossv=lossv.getA()\n",
    "    loss_validation4.append(lossv[0][0])\n",
    "    G4=gradientfunction(X,y,W4,C4)\n",
    "    Gt4=r4*Gt4+(1-r4)*multiply(G4,G4)\n",
    "    dw4=-multiply(sqrt(d4+e4)/sqrt(Gt4+e4),G4)\n",
    "    W4=W4+dw4#更新模型参数\n",
    "    d4=r4*d4+(1-r4)*multiply(dw4,dw4)\n",
    "    if lossv<0.01 or k4>200:#若loss值小于0.01或者迭代次数大于100则停止\n",
    "        break\n",
    "    k4=k4+1"
   ]
  },
  {
   "cell_type": "code",
   "execution_count": 40,
   "metadata": {
    "collapsed": true
   },
   "outputs": [],
   "source": [
    "#Adam\n",
    "W5=zeros((1,124))#将参数全部初始化为0\n",
    "W5=mat(W5)\n",
    "m5=zeros((1,124))#将参数全部初始化为0\n",
    "m5=mat(m5)\n",
    "Gt5=zeros((1,124))#将参数全部初始化为0\n",
    "Gt5=mat(Gt5)\n",
    "loss_validation5=[]#存储验证集的loss\n",
    "ix5=[]#存储迭代次数\n",
    "k5=0\n",
    "C5=0.1\n",
    "B5=0.9\n",
    "r5=0.999\n",
    "n5=0.001\n",
    "e5=1e-8\n",
    "while 1:\n",
    "    ix5.append(k5)\n",
    "    lossv=0\n",
    "    #计算验证集的loss值\n",
    "    lossv=lossfunction(Xt,yt,W5,C5)\n",
    "    lossv=lossv.getA()\n",
    "    loss_validation5.append(lossv[0][0])\n",
    "    G5=gradientfunction(X,y,W5,C5)\n",
    "    m5=B5*m5+(1-B5)*G5\n",
    "    Gt5=r5*Gt5+(1-r5)*multiply(G5,G5)\n",
    "    a5=n5*sqrt(1-r5)/(1-B5)\n",
    "    W5=W5-a5*m5/sqrt(Gt5+e5)#更新模型参数\n",
    "    if lossv<0.01 or k5>200:#若loss值小于0.01或者迭代次数大于100则停止\n",
    "        break\n",
    "    k5=k5+1"
   ]
  },
  {
   "cell_type": "code",
   "execution_count": 50,
   "metadata": {},
   "outputs": [
    {
     "data": {
      "text/plain": [
       "Text(0,0.5,'loss')"
      ]
     },
     "execution_count": 50,
     "metadata": {},
     "output_type": "execute_result"
    },
    {
     "data": {
      "image/png": "[encoded data removed]",
      "text/plain": [
       "<matplotlib.figure.Figure at 0x131f5a2d7b8>"
      ]
     },
     "metadata": {},
     "output_type": "display_data"
    }
   ],
   "source": [
    "%matplotlib inline\n",
    "import matplotlib.pyplot as plt\n",
    "plt.plot(ix1,loss_validation1,label='SGD')\n",
    "plt.plot(ix2,loss_validation2,label='NAG')\n",
    "plt.plot(ix3,loss_validation3,label='RMSProp')\n",
    "plt.plot(ix4,loss_validation4,label='AdaDelete')\n",
    "plt.plot(ix5,loss_validation5,label='Adam')\n",
    "plt.legend(loc='upper right')\n",
    "plt.xlabel('iteration')\n",
    "plt.ylabel('loss')"
   ]
  }
 ],
 "metadata": {
  "kernelspec": {
   "display_name": "Python 3",
   "language": "python",
   "name": "python3"
  },
  "language_info": {
   "codemirror_mode": {
    "name": "ipython",
    "version": 3
   },
   "file_extension": ".py",
   "mimetype": "text/x-python",
   "name": "python",
   "nbconvert_exporter": "python",
   "pygments_lexer": "ipython3",
   "version": "3.6.3"
  }
 },
 "nbformat": 4,
 "nbformat_minor": 2
}
